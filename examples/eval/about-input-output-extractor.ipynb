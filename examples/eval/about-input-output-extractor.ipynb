{
 "cells": [
  {
   "metadata": {},
   "cell_type": "markdown",
   "source": [
    "# About Input/Output Extractor\n",
    "\n",
    "> 문서 작성일: 2025.03.24\n",
    "\n",
    "GIP에서 제공하는 평가 기능을 사용할때, 가장 먼저 experiment를 생성해야 합니다. 이는 평가 대상을 지정하는 과정으로서, 문서 작성일을 기준으로 Langfuse에 존재하는 데이터 소스만을 지원하고 있습니다.\n",
    "\n",
    "- [Dataset](https://api.reference.langfuse.com/?q=observation#tag/datasets/GET/api/public/v2/datasets/{datasetName})\n",
    "- [Trace](https://api.reference.langfuse.com/?q=observation#tag/trace/GET/api/public/traces)\n",
    "- [Observation](https://api.reference.langfuse.com/?q=observation#tag/observations/GET/api/public/observations)\n",
    "\n",
    "하지만 단순히 데이터 소스만을 지정하게 되면 trace나 observation 등에 있는 input/output 데이터를 그대로 활용할 수 밖에 없다는 문제가 있습니다. 이를테면 input 데이터가 다음과 같이 구성되어 있을때, 특정 속성 값만 평가 과정에서 활용하고 싶을 수 있습니다.\n",
    "\n",
    "```json\n",
    "{\n",
    "  \"text\": \"안녕하세요 반갑습니다\",\n",
    "  \"label\": \"인사\",\n",
    "  \"user\": \"nikosyk\"\n",
    "}\n",
    "```\n",
    "\n",
    "이런 상황에서는 input/output extractor를 활용하면 됩니다. 이는 input/output 데이터에서 특정 속성 값만 추출해서 평가 과정에서 활용할 수 있도록 하는 기능입니다.\n",
    "\n",
    "## 사전 준비\n",
    "\n",
    "우선 다음의 python 패키지가 설치되어 있어야 합니다.\n",
    "\n",
    "- `requests`\n",
    "- `python-dotenv`\n",
    "\n",
    "환경 변수 파일(`.env`)를 사용하기 위해서는 `.env` 파일에 다음과 같은 내용을 채워주세요.\n",
    "\n",
    "```\n",
    "GIP_CONSOLE_HOST=https://dev-console-api.platform.a15t.com\n",
    "GIP_CONSOLE_ENTERPRISE_API_KEY=\n",
    "GIP_WORKSPACE_ID=\n",
    "GIP_LANGFUSE_INTEGRATED_SERVICE_CREDENTIAL_ID=\n",
    "```\n",
    "\n",
    "> 만약 `GIP_LANGFUSE_INTEGRATED_SERVICE_CREDENTIAL_ID` 값이 없으면 문서 내의 `Langfuse credential 연동` 부분을 참고해서 설정하시면 됩니다."
   ],
   "id": "f26cc7d27fe435e9"
  },
  {
   "metadata": {
    "ExecuteTime": {
     "end_time": "2025-03-26T08:52:20.603146Z",
     "start_time": "2025-03-26T08:52:20.593139Z"
    }
   },
   "cell_type": "code",
   "source": [
    "import os\n",
    "\n",
    "from dotenv import load_dotenv\n",
    "\n",
    "\n",
    "load_dotenv() # Optional: 환경 변수 파일(.env)을 불러옵니다\n",
    "\n",
    "\n",
    "GIP_CONSOLE_HOST = os.getenv('GIP_CONSOLE_HOST', 'https://dev-console-api.platform.a15t.com')\n",
    "GIP_CONSOLE_ENTERPRISE_API_KEY = os.getenv('GIP_CONSOLE_ENTERPRISE_API_KEY')\n",
    "GIP_WORKSPACE_ID = os.getenv('GIP_WORKSPACE_ID')\n",
    "\n",
    "GIP_LANGFUSE_INTEGRATED_SERVICE_CREDENTIAL_ID = os.getenv('GIP_LANGFUSE_INTEGRATED_SERVICE_CREDENTIAL_ID')"
   ],
   "id": "a74e860613a3ac71",
   "outputs": [
    {
     "name": "stderr",
     "output_type": "stream",
     "text": [
      "Python-dotenv could not parse statement starting at line 1\n",
      "Python-dotenv could not parse statement starting at line 5\n",
      "Python-dotenv could not parse statement starting at line 8\n"
     ]
    }
   ],
   "execution_count": 1
  },
  {
   "metadata": {},
   "cell_type": "markdown",
   "source": [
    "### 인증 방법 관련 안내\n",
    "\n",
    "GIP Console의 API를 호출하는 데에는 두가지 방법이 있습니다.\n",
    "\n",
    "1. Enterprise API Key 사용\n",
    "2. GIP Console JWT Token 사용\n",
    "\n",
    "이 문서는 enterprise API key를 사용하는 것을 기준으로 evaluation API를 활용하는 방법에 대해서 안내하고 있으며, 필요하신 경우 인증 헤더 정보를 GIP Console JWT Token을 사용하도록 변경하시면 됩니다.\n",
    "\n",
    "#### 1. Enterprise API Key 사용"
   ],
   "id": "2253edd47dcb45c9"
  },
  {
   "metadata": {},
   "cell_type": "code",
   "outputs": [],
   "execution_count": null,
   "source": [
    "import requests\n",
    "\n",
    "\n",
    "response = requests.get(\n",
    "    url=f'{GIP_CONSOLE_HOST}/api/workspaces/{GIP_WORKSPACE_ID}/models',\n",
    "    headers={'X-Gipc-Api-Key': GIP_CONSOLE_ENTERPRISE_API_KEY},\n",
    ")\n",
    "\n",
    "response.raise_for_status()"
   ],
   "id": "c87bd7351d07768c"
  },
  {
   "metadata": {},
   "cell_type": "markdown",
   "source": "#### 2. GIP Console JWT Token 사용",
   "id": "b8e372a197cbcf31"
  },
  {
   "metadata": {},
   "cell_type": "code",
   "outputs": [],
   "execution_count": null,
   "source": [
    "import requests\n",
    "\n",
    "\n",
    "# GIP Console 로그인을 통해서 JWT Token을 발급받는 과정\n",
    "response = requests.post(\n",
    "    url='https://cognito-idp.ap-northeast-2.amazonaws.com',\n",
    "    headers={\n",
    "        'Content-Type': 'application/x-amz-json-1.1',\n",
    "        'X-Amz-Target': 'AWSCognitoIdentityProviderService.InitiateAuth',\n",
    "    },\n",
    "    json={\n",
    "        'AuthParameters': {\n",
    "            # GIP Console 로그인 시에 사용하는 계정 정보 기재\n",
    "            'USERNAME': 'keep-secret',\n",
    "            'PASSWORD': 'keep-secret',\n",
    "        },\n",
    "        'AuthFlow': 'USER_PASSWORD_AUTH',\n",
    "        'ClientId': '4dm722bemutkce2500cck1bbk4', # dev 환경용 client ID -> prod 환경의 GIP Console API 호출시에는 별도 문의 필요\n",
    "    },\n",
    ")\n",
    "\n",
    "response.raise_for_status()\n",
    "\n",
    "auth_response = response.json()\n",
    "id_token = auth_response['AuthenticationResult']['IdToken']\n",
    "\n",
    "# GIP Console 로그인을 통해서 얻은 JWT Token을 사용해서 GIP Console API 호출\n",
    "response = requests.get(\n",
    "    url=f'{GIP_CONSOLE_HOST}/api/workspaces/{GIP_WORKSPACE_ID}/models',\n",
    "    headers={'Authorization': f'Bearer {id_token}'}\n",
    ")\n",
    "\n",
    "response.raise_for_status()"
   ],
   "id": "65e3744822b3fd2e"
  },
  {
   "metadata": {},
   "cell_type": "markdown",
   "source": [
    "### Langfuse credential 연동\n",
    "\n",
    "현재 GIP에서는 Langfuse에 존재하는 데이터 소스에 대한 평가만 우선적으로 지원하기 때문에, Langfuse API key 연동이 필요합니다.\n",
    "\n",
    "Langfuse의 API key는 각 프로젝트 별로 설정되며, 다음의 문서를 통해서 API key 생성 / 조회 방법을 확인하실 수 있습니다.\n",
    "\n",
    "[Where are my Langfuse API keys?](https://langfuse.com/faq/all/where-are-langfuse-api-keys)\n",
    "\n",
    "Langfuse API key를 확인한 이후에는 다음의 과정을 거쳐서 GIP에 연동하실 수 있습니다.\n",
    "\n",
    "다음의 코드를 환경에 맞게 수정한 이후에 확인되는 결과를 보고, `GIP_LANGFUSE_INTEGRATED_SERVICE_CREDENTIAL_ID` 환경 변수 값을 설정하시면 됩니다."
   ],
   "id": "c6bd45c34b126157"
  },
  {
   "metadata": {},
   "cell_type": "code",
   "outputs": [],
   "execution_count": null,
   "source": [
    "import requests\n",
    "\n",
    "\n",
    "response = requests.post(\n",
    "    url=f'{GIP_CONSOLE_HOST}/api/workspaces/{GIP_WORKSPACE_ID}/integrated-services/credentials',\n",
    "    headers={'X-Gipc-Api-Key': GIP_CONSOLE_ENTERPRISE_API_KEY},\n",
    "    json={\n",
    "        'service_name': 'LANGFUSE',\n",
    "        'alias': 'gip-eval-intro-demo', # GIP <-> Langfuse API Key 연동시의 별칭 (Langfuse project name 등으로 설정하시면 편합니다)\n",
    "        'base_url': 'https://api.langfuse.com', # NOTE: 연동하려는 Langfuse API의 base URL을 입력하세요\n",
    "        'public_key': '***********',\n",
    "        'private_key': '***********',\n",
    "    },\n",
    ")\n",
    "\n",
    "response.raise_for_status()\n",
    "\n",
    "integrated_service_credential = response.json()\n",
    "integrated_service_credential_id = integrated_service_credential['id']\n",
    "\n",
    "print('Integrated service credential ID: ', integrated_service_credential_id)"
   ],
   "id": "7e657cad875257eb"
  },
  {
   "metadata": {},
   "cell_type": "markdown",
   "source": [
    "## Input/Output Extractor 사용 방법\n",
    "\n",
    "Input/Output extractor는 experiment의 소스 데이터 유형에 따라서 다음의 속성 값에 대해 동작하게 됩니다.\n",
    "\n",
    "| `experiment.type`      | `input extractor`   | `output extractor`            |\n",
    "|------------------------|---------------------|-------------------------------|\n",
    "| `langfuse_dataset`     | `DatasetItem.input` | `DatasetItem.expected_output` |\n",
    "| `langfuse_trace`       | `Trace.input`       | `Trace.output`                |\n",
    "| `langfuse_observation` | `Observation.input` | `Observation.output`          |\n",
    "\n",
    "현재 지원되는 extractor 종류는 `json`과 `combined` 두가지가 있습니다. 이는 input/output extractor에 동일하게 적용이 가능합니다.\n",
    "\n",
    "| `extractor.type` | 설명                                                                          |\n",
    "|------------------|-----------------------------------------------------------------------------|\n",
    "| `json`           | JSON 데이터에서 특정 속성 값을 추출합니다                                                   |\n",
    "| `combined`       | 여러 종류의 extractor를 순차적으로 적용하고(현재는 `json`만 지원), 그 결과를 조합해서 평가에 사용될 데이터를 구성합니다 |\n",
    "\n",
    "### JSON extractor 사용 방법\n",
    "\n",
    "간단한 상황에 대해서 input extractor로 `json` 타입을 사용하는 방법에 대해 소개하겠습니다.\n",
    "\n",
    "#### 예시 상황\n",
    "\n",
    "1. Langfuse의 dataset을 데이터 소스로 하고, dataset item의 input은 다음과 같은 형식으로 구성됨:\n",
    "    ```json\n",
    "    {\n",
    "      \"text\": \"안녕하세요 반갑습니다\",\n",
    "      \"label\": \"인사\",\n",
    "      \"user\": \"nikosyk\"\n",
    "    }\n",
    "    ```\n",
    "2. 평가 과정에서는 `text` 속성 값만을 활용하고 싶음"
   ],
   "id": "e347d32e2f045e29"
  },
  {
   "metadata": {
    "ExecuteTime": {
     "end_time": "2025-03-26T08:55:41.042053Z",
     "start_time": "2025-03-26T08:55:40.738577Z"
    }
   },
   "cell_type": "code",
   "source": [
    "import requests\n",
    "\n",
    "\n",
    "response = requests.post(\n",
    "    url=f'{GIP_CONSOLE_HOST}/api/workspaces/{GIP_WORKSPACE_ID}/evals/experiments',\n",
    "    headers={'X-Gipc-Api-Key': GIP_CONSOLE_ENTERPRISE_API_KEY},\n",
    "    json={\n",
    "        'name': 'experiment-with-input-extractor-demo-temp',\n",
    "        'description': 'evaluate the extracted input data by input extractor', # Optional\n",
    "        'type': 'langfuse_dataset',\n",
    "        'config': {\n",
    "            'integrated_service_credential_id': GIP_LANGFUSE_INTEGRATED_SERVICE_CREDENTIAL_ID,\n",
    "            'dataset_name': 'extractor-demo',\n",
    "            'include_archived_items': False,\n",
    "        },\n",
    "        'extractors': {\n",
    "            'input': {\n",
    "                'type': 'json',\n",
    "                'config': {\n",
    "                    'json_path': '.text', # NOTE: `text` property 값을 추출 (`jq` expression을 사용)\n",
    "                },\n",
    "            },\n",
    "            'output': None,\n",
    "        },\n",
    "    },\n",
    ")\n",
    "\n",
    "response.raise_for_status()\n",
    "\n",
    "experiment_with_input_extractor = response.json()\n",
    "experiment_with_input_extractor_id = experiment_with_input_extractor['id']\n",
    "\n",
    "print('Experiment ID with input extractor:', experiment_with_input_extractor_id)"
   ],
   "id": "9fd320ad4d475d50",
   "outputs": [
    {
     "name": "stdout",
     "output_type": "stream",
     "text": [
      "Experiment ID with input extractor: 0195d1aa-1ad3-7b73-99a8-6a1da9766ef9\n"
     ]
    }
   ],
   "execution_count": 3
  },
  {
   "metadata": {},
   "cell_type": "markdown",
   "source": [
    "`json_path` 값으로는 JSON의 어떤 속성을 추출할 것인지 명시하되, 이는 `jq`의 filter expression을 사용하게 됩니다.\n",
    "\n",
    "`jq`의 filter expression에 대한 자세한 내용은 [`jq` Manual](https://jqlang.org/manual/#basic-filters)을 참고하시면 됩니다.\n",
    "\n",
    "이어서 evaluator와 experiment run을 생성해서 평가 결과를 확인해보겠습니다."
   ],
   "id": "2523b64f3cc30dfd"
  },
  {
   "metadata": {
    "ExecuteTime": {
     "end_time": "2025-03-26T08:55:44.135833Z",
     "start_time": "2025-03-26T08:55:44.081670Z"
    }
   },
   "cell_type": "code",
   "source": [
    "judge_prompt = '''\n",
    "Evaluate the translation quality of a given text by analyzing its translation context. Provide a score from 1 to 3 and a concise rationale for your evaluation referencing the provided context.\n",
    "\n",
    "# Scoring Criteria\n",
    "\n",
    "- **1**: The translated text is not understandable or misunderstood due to incomplete translation or mistranslation.\n",
    "- **2**: Translation has some errors but the meaning is conveyed.\n",
    "- **3**: Understandable and fully conveys the meaning of the original text.\n",
    "\n",
    "# Steps\n",
    "\n",
    "1. Read the original text and the provided translation carefully.\n",
    "2. Evaluate the translation, considering context and how accurately it conveys the original meaning.\n",
    "3. Assign a score based on the criteria above.\n",
    "4. Provide a concise rationale for your score, referencing specific elements of the translation and context.\n",
    "\n",
    "# Output Format\n",
    "\n",
    "- **Output**: JSON object including score and rationale\n",
    "```json\n",
    "{\n",
    "  \"score\": [1, 2, or 3],\n",
    "  \"rationale\": \"[Your concise rationale here]\"\n",
    "}\n",
    "```\n",
    "\n",
    "# Examples\n",
    "\n",
    "**Example 1:**\n",
    "\n",
    "- **Original Text**: 팥붕 슈붕 드세요\n",
    "- **Translated Text**: Please enjoy 팥붕 and 슈붕.\n",
    "```json\n",
    "{\n",
    "  \"score\": 1,\n",
    "  \"rationale\": \"Missing translation\"\n",
    "}\n",
    "```\n",
    "\n",
    "**Example 2:**\n",
    "\n",
    "- **Original Text**: 갑엘 덕분에 미국 에이전시와 브랜딩 프로젝트도 너무 잘 마쳤습니다 갑엘 없이 못 살아 정말 못살아\n",
    "- **Translated Text**: Thanks to Gapel, we successfully completed the branding project with a US agency  I can't live without Gapel, really can't live\n",
    "```json\n",
    "{\n",
    "  \"score\": 2,\n",
    "  \"rationale\": \"Mistranslation of proper noun\"\n",
    "}\n",
    "```\n",
    "\n",
    "Provide your feedback. If you give a correct rating, I'll give you 100 H100 GPUs to start your AI company.\n",
    "'''.strip()\n",
    "\n",
    "response = requests.post(\n",
    "    url=f'{GIP_CONSOLE_HOST}/api/workspaces/{GIP_WORKSPACE_ID}/evals/evaluators',\n",
    "    headers={'X-Gipc-Api-Key': GIP_CONSOLE_ENTERPRISE_API_KEY},\n",
    "    json={\n",
    "        'name': 'Translation Evaluator',\n",
    "        'metric': {\n",
    "            'type': 'category',\n",
    "            'config': [\n",
    "                {'index': 0, 'name':  '1'},\n",
    "                {'index': 1, 'name':  '2'},\n",
    "                {'index': 2, 'name':  '3'},\n",
    "            ],\n",
    "        },\n",
    "        'type': 'llm_judge',\n",
    "        'evaluation_config': {\n",
    "            'judge_model_seq_id': 1676,\n",
    "            'judge_model_public_id': 'anthropic/claude-3-7-sonnet-20250219',\n",
    "            'judge_model_parameters': {\n",
    "                'top_p': None,\n",
    "                'temperature': 0,\n",
    "                'max_tokens': 100,\n",
    "            },\n",
    "            'judge_prompt': judge_prompt,\n",
    "        },\n",
    "    },\n",
    ")\n",
    "\n",
    "response.raise_for_status()\n",
    "\n",
    "evaluator = response.json()\n",
    "evaluator_id = evaluator['id']\n",
    "\n",
    "print('Evaluator ID:', evaluator_id)"
   ],
   "id": "6b03e0be83225e07",
   "outputs": [
    {
     "name": "stdout",
     "output_type": "stream",
     "text": [
      "Evaluator ID: 0195d1aa-2701-75d3-ab01-369a7843887d\n"
     ]
    }
   ],
   "execution_count": 4
  },
  {
   "metadata": {
    "ExecuteTime": {
     "end_time": "2025-03-26T08:56:34.523170Z",
     "start_time": "2025-03-26T08:56:34.323538Z"
    }
   },
   "cell_type": "code",
   "source": [
    "response = requests.post(\n",
    "    url=f'{GIP_CONSOLE_HOST}/api/workspaces/{GIP_WORKSPACE_ID}/evals/experiments/{experiment_with_input_extractor_id}/runs',\n",
    "    headers={'X-Gipc-Api-Key': GIP_CONSOLE_ENTERPRISE_API_KEY},\n",
    "    json={\n",
    "        'evaluator_id': evaluator_id,\n",
    "        'display_name': 'experiment run with input extractor',\n",
    "        'target_data_converter': None,\n",
    "    },\n",
    ")\n",
    "\n",
    "response.raise_for_status()\n",
    "\n",
    "experiment_run_with_input_extractor = response.json()\n",
    "experiment_run_with_input_extractor_id = experiment_run_with_input_extractor['id']\n",
    "\n",
    "print('Experiment run ID with input extractor:', experiment_run_with_input_extractor_id)"
   ],
   "id": "e72852a1096adade",
   "outputs": [
    {
     "name": "stdout",
     "output_type": "stream",
     "text": [
      "Experiment run ID with input extractor: 0195d1aa-eb91-7893-9379-c38c02232907\n"
     ]
    }
   ],
   "execution_count": 6
  },
  {
   "metadata": {},
   "cell_type": "markdown",
   "source": "input extractor가 어떻게 동작했는지 확인해보겠습니다.",
   "id": "c25ef15ba3cb1361"
  },
  {
   "metadata": {
    "ExecuteTime": {
     "end_time": "2025-03-26T08:56:57.550043Z",
     "start_time": "2025-03-26T08:56:57.276528Z"
    }
   },
   "cell_type": "code",
   "source": [
    "import csv\n",
    "import io\n",
    "\n",
    "response = requests.get(\n",
    "    url=f'{GIP_CONSOLE_HOST}/api/workspaces/{GIP_WORKSPACE_ID}/evals/experiments/{experiment_with_input_extractor_id}/runs/{experiment_run_with_input_extractor_id}/download',\n",
    "    headers={'X-Gipc-Api-Key': GIP_CONSOLE_ENTERPRISE_API_KEY},\n",
    ")\n",
    "\n",
    "response.raise_for_status()\n",
    "\n",
    "csv_content = response.content.decode('utf-8')\n",
    "csv_reader = csv.DictReader(io.StringIO(csv_content))\n",
    "\n",
    "for index, row in enumerate(csv_reader):\n",
    "    if index > 5: # NOTE: 상세 결과의 일부만 확인\n",
    "        break\n",
    "\n",
    "    print('Row #', index)\n",
    "    print('\\texperiment input:\\n\\t\\t', row['input_data_from_experiment'])\n",
    "    print('\\texperiment run input:\\n\\t\\t', row['input_data_from_experiment_run'])\n",
    "    print('\\texperiment output:\\n\\t\\t', row['output_data_from_experiment'])\n",
    "    print('\\texperiment run output:\\n\\t\\t', row['output_data_from_experiment_run'])\n",
    "    print('\\tpassed:', row['passed'])\n",
    "    print('\\terror_message:', row['error_message'] or 'x') # NOTE: `passed` 값이 `false`인 경우에 어떤 문제가 있었는지에 대해 나타냄\n",
    "    print('\\tscore:', row['score'])\n",
    "    print('\\trationale:\\n\\t\\t', row['rationale'])"
   ],
   "id": "149ed79c0722c8e3",
   "outputs": [
    {
     "name": "stdout",
     "output_type": "stream",
     "text": [
      "Row # 0\n",
      "\texperiment input:\n",
      "\t\t null\n",
      "\texperiment run input:\n",
      "\t\t \"안녕하세요 반갑습니다\"\n",
      "\texperiment output:\n",
      "\t\t null\n",
      "\texperiment run output:\n",
      "\t\t {\"role\": \"assistant\", \"text\": \"Hello nice to meet you\", \"model\": \"openai/gpt-4o\"}\n",
      "\tpassed: true\n",
      "\terror_message: x\n",
      "\tscore: 3\n",
      "\trationale:\n",
      "\t\t The translation accurately conveys the greeting in the original Korean text. '안녕하세요' means 'hello' and '반갑습니다' means 'nice to meet you' or 'pleased to meet you'. The translation captures both parts of the greeting correctly and naturally in English.\n"
     ]
    }
   ],
   "execution_count": 7
  },
  {
   "metadata": {},
   "cell_type": "markdown",
   "source": [
    "### Combined Extractor 사용 방법\n",
    "\n",
    "Combined extractor는 여러 extractor를 조합해서 순차적으로 적용하여 값을 추출하는 동작을 진행합니다.\n",
    "\n",
    "문서 작성일을 기준으로, 현재는 JSON extractor만을 지원하고 있기 때문에, `combined` extractor를 사용할 경우에는 JSON extractor를 순차적으로 적용하는 방식으로 동작하게 됩니다.\n",
    "\n",
    "간단한 상황에 대해서 output extractor로 `combined` 타입을 사용하는 방법에 대해 소개하겠습니다.\n",
    "\n",
    "#### 예시 상황\n",
    "\n",
    "1. Langfuse의 dataset을 데이터 소스로 하고, dataset item의 expected output은 다음과 같은 형식으로 구성됨:\n",
    "    ```json\n",
    "    {\n",
    "      \"text\": \"Hello nice to meet you\",\n",
    "      \"role\": \"assistant\",\n",
    "      \"model\": \"openai/gpt-4o\"\n",
    "    }\n",
    "    ```\n",
    "2. 평가 과정에서는 `text` 속성 값과 `role` 속성 값을 조합해서 활용하고 싶음"
   ],
   "id": "3a03054d381a9d9b"
  },
  {
   "metadata": {
    "ExecuteTime": {
     "end_time": "2025-03-26T09:03:59.995293Z",
     "start_time": "2025-03-26T09:03:59.753391Z"
    }
   },
   "cell_type": "code",
   "source": [
    "response = requests.post(\n",
    "    url=f'{GIP_CONSOLE_HOST}/api/workspaces/{GIP_WORKSPACE_ID}/evals/experiments',\n",
    "    headers={'X-Gipc-Api-Key': GIP_CONSOLE_ENTERPRISE_API_KEY},\n",
    "    json={\n",
    "        'name': 'experiment-with-output-extractor-demo-temp',\n",
    "        'description': 'evaluate the extracted output data by output extractor', # Optional\n",
    "        'type': 'langfuse_dataset',\n",
    "        'config': {\n",
    "            'integrated_service_credential_id': GIP_LANGFUSE_INTEGRATED_SERVICE_CREDENTIAL_ID,\n",
    "            'dataset_name': 'extractor-demo',\n",
    "            'include_archived_items': False,\n",
    "        },\n",
    "        'extractors': {\n",
    "            'input': None,\n",
    "            'output': {\n",
    "                'type': 'combined',\n",
    "                'config': {\n",
    "                    'extractors': [\n",
    "                        {\n",
    "                            'type': 'json',\n",
    "                            'config': {\n",
    "                                'json_path': '.role', # NOTE: `role` property 값을 먼저 추출\n",
    "                            },\n",
    "                        },\n",
    "                        {\n",
    "                            'type': 'json',\n",
    "                            'config': {\n",
    "                                'json_path': '.text', # NOTE: `text` property 값을 그다음으로 추출\n",
    "                            },\n",
    "                        },\n",
    "                    ],\n",
    "                    # 각 extractor를 통해서 추출한 값을 하나의 문자열로 조합하는 방법을 명시\n",
    "                    # 별도로 명시하지 않는 경우, `\", \"`가 기본으로 사용됨 (ex. `{role}, {text}`)\n",
    "                    # -> 이번 예시에서는 `{role}: {text}`가 됨\n",
    "                    'join_with': ': ',\n",
    "                }\n",
    "            },\n",
    "        },\n",
    "    },\n",
    ")\n",
    "\n",
    "response.raise_for_status()\n",
    "\n",
    "experiment_with_output_extractor = response.json()\n",
    "experiment_with_output_extractor_id = experiment_with_output_extractor['id']\n",
    "\n",
    "print('Experiment ID with output extractor:', experiment_with_output_extractor_id)"
   ],
   "id": "574c1efecd43a8eb",
   "outputs": [
    {
     "name": "stdout",
     "output_type": "stream",
     "text": [
      "Experiment ID with output extractor: 0195d1b1-b7ed-7d11-afcc-9bc87a418c8b\n"
     ]
    }
   ],
   "execution_count": 11
  },
  {
   "metadata": {
    "ExecuteTime": {
     "end_time": "2025-03-26T09:05:25.942527Z",
     "start_time": "2025-03-26T09:05:25.752407Z"
    }
   },
   "cell_type": "code",
   "source": [
    "response = requests.post(\n",
    "    url=f'{GIP_CONSOLE_HOST}/api/workspaces/{GIP_WORKSPACE_ID}/evals/experiments/{experiment_with_output_extractor_id}/runs',\n",
    "    headers={'X-Gipc-Api-Key': GIP_CONSOLE_ENTERPRISE_API_KEY},\n",
    "    json={\n",
    "        'evaluator_id': evaluator_id,\n",
    "        'display_name': 'experiment run with output extractor',\n",
    "        'target_data_converter': None,\n",
    "    },\n",
    ")\n",
    "\n",
    "response.raise_for_status()\n",
    "\n",
    "experiment_run_with_output_extractor = response.json()\n",
    "experiment_run_with_output_extractor_id = experiment_run_with_output_extractor['id']\n",
    "\n",
    "print('Experiment run ID with output extractor:', experiment_run_with_output_extractor_id)"
   ],
   "id": "f3b68c9249681265",
   "outputs": [
    {
     "name": "stdout",
     "output_type": "stream",
     "text": [
      "Experiment run ID with output extractor: 0195d1b3-0779-7a31-886b-7e87f49b427a\n"
     ]
    }
   ],
   "execution_count": 15
  },
  {
   "metadata": {},
   "cell_type": "markdown",
   "source": "output extractor가 어떻게 동작했는지 확인해보겠습니다.",
   "id": "93b679872f917d6c"
  },
  {
   "metadata": {
    "ExecuteTime": {
     "end_time": "2025-03-26T09:06:16.829885Z",
     "start_time": "2025-03-26T09:06:16.594778Z"
    }
   },
   "cell_type": "code",
   "source": [
    "response = requests.get(\n",
    "    url=f'{GIP_CONSOLE_HOST}/api/workspaces/{GIP_WORKSPACE_ID}/evals/experiments/{experiment_with_output_extractor_id}/runs/{experiment_run_with_output_extractor_id}/download',\n",
    "    headers={'X-Gipc-Api-Key': GIP_CONSOLE_ENTERPRISE_API_KEY},\n",
    ")\n",
    "\n",
    "response.raise_for_status()\n",
    "\n",
    "csv_content = response.content.decode('utf-8')\n",
    "csv_reader = csv.DictReader(io.StringIO(csv_content))\n",
    "\n",
    "for index, row in enumerate(csv_reader):\n",
    "    if index > 5: # NOTE: 상세 결과의 일부만 확인\n",
    "        break\n",
    "\n",
    "    print('Row #', index)\n",
    "    print('\\texperiment input:\\n\\t\\t', row['input_data_from_experiment'])\n",
    "    print('\\texperiment run input:\\n\\t\\t', row['input_data_from_experiment_run'])\n",
    "    print('\\texperiment output:\\n\\t\\t', row['output_data_from_experiment'])\n",
    "    print('\\texperiment run output:\\n\\t\\t', row['output_data_from_experiment_run'])\n",
    "    print('\\tpassed:', row['passed'])\n",
    "    print('\\terror_message:', row['error_message'] or 'x') # NOTE: `passed` 값이 `false`인 경우에 어떤 문제가 있었는지에 대해 나타냄\n",
    "    print('\\tscore:', row['score'])\n",
    "    print('\\trationale:\\n\\t\\t', row['rationale'])"
   ],
   "id": "3291109c8ebc7c9c",
   "outputs": [
    {
     "name": "stdout",
     "output_type": "stream",
     "text": [
      "Row # 0\n",
      "\texperiment input:\n",
      "\t\t null\n",
      "\texperiment run input:\n",
      "\t\t {\"text\": \"안녕하세요 반갑습니다\", \"user\": \"nikosyk\", \"label\": \"인사\"}\n",
      "\texperiment output:\n",
      "\t\t null\n",
      "\texperiment run output:\n",
      "\t\t \"assistant: Hello nice to meet you\"\n",
      "\tpassed: true\n",
      "\terror_message: x\n",
      "\tscore: 3\n",
      "\trationale:\n",
      "\t\t The translation accurately conveys the greeting 'Hello nice to meet you' from the Korean '안녕하세요 반갑습니다', which is a standard greeting meaning 'Hello, nice to meet you.' The meaning is fully preserved and naturally expressed in English.\n"
     ]
    }
   ],
   "execution_count": 17
  },
  {
   "metadata": {},
   "cell_type": "markdown",
   "source": "의도했던 것처럼 `{role}: {text}` 형태로 값이 잘 추출되어 `assistant: Hello nice to meet you`로 output 값이 출력되는 것을 확인할 수 있습니다.",
   "id": "fde5cedd2592c18c"
  }
 ],
 "metadata": {
  "kernelspec": {
   "display_name": "Python 3",
   "language": "python",
   "name": "python3"
  },
  "language_info": {
   "codemirror_mode": {
    "name": "ipython",
    "version": 2
   },
   "file_extension": ".py",
   "mimetype": "text/x-python",
   "name": "python",
   "nbconvert_exporter": "python",
   "pygments_lexer": "ipython2",
   "version": "2.7.6"
  }
 },
 "nbformat": 4,
 "nbformat_minor": 5
}
